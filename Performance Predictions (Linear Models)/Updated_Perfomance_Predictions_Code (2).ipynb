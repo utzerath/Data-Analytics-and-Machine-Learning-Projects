{
 "cells": [
  {
   "cell_type": "markdown",
   "metadata": {},
   "source": [
    "Introduction and Objective \n",
    "\n",
    "We are building a linear model which are useful for technical and quantitative analysis. This linear model is going to predict a publically traded stock's performance, and historical data about the stocks performance will be used for this linear model. \n",
    "\n",
    "Upstart - will be the stock that is analyzed\n",
    "\n",
    "Although short term investing is generally a risky strategy, we are going to utilizing this approach. A linear regression model will be used to predict the next day's closing price. For long term investments scenarios however, temporal patterns like ARIMA and SARIMA would predict the stock price at a higher effiency.\n",
    "\n",
    "Problem Statement: The upstart inc. stock should go up in price the next day which means we should buy it at open. \n"
   ]
  },
  {
   "cell_type": "markdown",
   "metadata": {},
   "source": [
    "Data Desciption\n",
    "\n",
    "As stated above the stock Upstart was selected, which in short terms, is a company that offers consumers loans using technology.\n",
    "\n",
    "The historical data was found through the Yahoo Finaince website and downloaded in .cvs files.\n",
    "\n",
    "Below is all libraries we are going to be using. Pandas is important for data manipulation and analysis. This is going to handle our data in the csv file. NumPy is a important computing library. This could be used to operate on different arrays. Matplotlib for data visulatization. Scikit-Learn for the machine learning part- this is how we are going to construct a linear regression. Seaborn is also are Data visualization. "
   ]
  },
  {
   "cell_type": "code",
   "execution_count": 1,
   "metadata": {},
   "outputs": [],
   "source": [
    "import pandas as pd\n",
    "import numpy as np\n",
    "from sklearn.linear_model import LinearRegression\n",
    "from sklearn.model_selection import train_test_split\n",
    "from sklearn.metrics import mean_squared_error, r2_score\n",
    "from sklearn.discriminant_analysis import StandardScaler\n",
    "import matplotlib.pyplot as plt\n",
    "from statsmodels.stats.outliers_influence import variance_inflation_factor"
   ]
  },
  {
   "cell_type": "code",
   "execution_count": 2,
   "metadata": {},
   "outputs": [
    {
     "name": "stdout",
     "output_type": "stream",
     "text": [
      "         Date       Open       High        Low      Close  Adj Close   Volume\n",
      "0  2023-01-17  17.020000  18.333000  16.629999  17.290001  17.290001  5803100\n",
      "1  2023-01-18  17.780001  18.190001  16.393999  16.480000  16.480000  6094700\n",
      "2  2023-01-19  15.930000  16.020000  15.150000  15.570000  15.570000  5773100\n",
      "3  2023-01-20  15.630000  17.500000  15.630000  17.290001  17.290001  6926700\n",
      "4  2023-01-23  17.639999  18.760000  17.049999  18.570000  18.570000  7488400\n"
     ]
    }
   ],
   "source": [
    "# Load the provided historical data for Upstart (UPST)\n",
    "file_path = 'UPST.csv'\n",
    "upst_data = pd.read_csv(file_path)\n",
    "\n",
    "# Displaying a message to confirm the import and loading of data\n",
    "\"Libraries and data loaded successfully. Ready to proceed with the linear regression model.\"\n",
    "\n",
    "print(upst_data.head())"
   ]
  },
  {
   "cell_type": "markdown",
   "metadata": {},
   "source": [
    "Data Preprocessing \n",
    "\n",
    "Here the csv file is read in. In this CSV file there are 7 categories. We are going to be using the open, high, low, volume, and prev_close to train our model."
   ]
  },
  {
   "cell_type": "code",
   "execution_count": 3,
   "metadata": {},
   "outputs": [],
   "source": [
    "# Creating a new column for the previous day's closing price (1-day lagged close)\n",
    "upst_data['Prev_Close'] = upst_data['Close'].shift(1)\n",
    "\n",
    "# Now let's prepare our new feature (X) and target (y) variables.\n",
    "# We'll drop the first row since it will have a NaN value for 'Prev_Close'.\n",
    "upst_data = upst_data.dropna()\n",
    "# Assuming 'Close' is the dependent variable and the rest are independent variables\n",
    "X = upst_data.drop(['Date', 'Close', 'Adj Close'], axis=1)\n",
    "y = upst_data['Close']\n",
    "\n",
    "# Standardize the features\n",
    "scaler = StandardScaler()\n",
    "X_scaled = scaler.fit_transform(X)\n"
   ]
  },
  {
   "cell_type": "markdown",
   "metadata": {},
   "source": [
    "Here we prepared our x and y variables for the linear model using all of the necessary content. In machine learning is it important to standardize the data especially when the features have different units and scales. This will increase our model performance and make it so we can interpret coefficients so that we can extract the VIF."
   ]
  },
  {
   "cell_type": "code",
   "execution_count": 4,
   "metadata": {},
   "outputs": [
    {
     "data": {
      "text/html": [
       "<div>\n",
       "<style scoped>\n",
       "    .dataframe tbody tr th:only-of-type {\n",
       "        vertical-align: middle;\n",
       "    }\n",
       "\n",
       "    .dataframe tbody tr th {\n",
       "        vertical-align: top;\n",
       "    }\n",
       "\n",
       "    .dataframe thead th {\n",
       "        text-align: right;\n",
       "    }\n",
       "</style>\n",
       "<table border=\"1\" class=\"dataframe\">\n",
       "  <thead>\n",
       "    <tr style=\"text-align: right;\">\n",
       "      <th></th>\n",
       "      <th>Feature</th>\n",
       "      <th>VIF</th>\n",
       "    </tr>\n",
       "  </thead>\n",
       "  <tbody>\n",
       "    <tr>\n",
       "      <th>0</th>\n",
       "      <td>Open</td>\n",
       "      <td>270.608485</td>\n",
       "    </tr>\n",
       "    <tr>\n",
       "      <th>1</th>\n",
       "      <td>High</td>\n",
       "      <td>222.956013</td>\n",
       "    </tr>\n",
       "    <tr>\n",
       "      <th>2</th>\n",
       "      <td>Low</td>\n",
       "      <td>204.793858</td>\n",
       "    </tr>\n",
       "    <tr>\n",
       "      <th>3</th>\n",
       "      <td>Volume</td>\n",
       "      <td>2.297348</td>\n",
       "    </tr>\n",
       "    <tr>\n",
       "      <th>4</th>\n",
       "      <td>Prev_Close</td>\n",
       "      <td>120.180131</td>\n",
       "    </tr>\n",
       "  </tbody>\n",
       "</table>\n",
       "</div>"
      ],
      "text/plain": [
       "      Feature         VIF\n",
       "0        Open  270.608485\n",
       "1        High  222.956013\n",
       "2         Low  204.793858\n",
       "3      Volume    2.297348\n",
       "4  Prev_Close  120.180131"
      ]
     },
     "execution_count": 4,
     "metadata": {},
     "output_type": "execute_result"
    }
   ],
   "source": [
    "# Since we've already scaled the features, we can use X_scaled for calculating VIF\n",
    "vif_data = pd.DataFrame()\n",
    "vif_data[\"Feature\"] = X.columns\n",
    "vif_data[\"VIF\"] = [variance_inflation_factor(X_scaled, i) for i in range(len(X.columns))]\n",
    "vif_data"
   ]
  },
  {
   "cell_type": "code",
   "execution_count": 5,
   "metadata": {},
   "outputs": [
    {
     "data": {
      "text/html": [
       "<div>\n",
       "<style scoped>\n",
       "    .dataframe tbody tr th:only-of-type {\n",
       "        vertical-align: middle;\n",
       "    }\n",
       "\n",
       "    .dataframe tbody tr th {\n",
       "        vertical-align: top;\n",
       "    }\n",
       "\n",
       "    .dataframe thead th {\n",
       "        text-align: right;\n",
       "    }\n",
       "</style>\n",
       "<table border=\"1\" class=\"dataframe\">\n",
       "  <thead>\n",
       "    <tr style=\"text-align: right;\">\n",
       "      <th></th>\n",
       "      <th>Feature</th>\n",
       "      <th>VIF</th>\n",
       "    </tr>\n",
       "  </thead>\n",
       "  <tbody>\n",
       "    <tr>\n",
       "      <th>0</th>\n",
       "      <td>Open</td>\n",
       "      <td>2.164173</td>\n",
       "    </tr>\n",
       "    <tr>\n",
       "      <th>1</th>\n",
       "      <td>Volume</td>\n",
       "      <td>2.259872</td>\n",
       "    </tr>\n",
       "    <tr>\n",
       "      <th>2</th>\n",
       "      <td>Range</td>\n",
       "      <td>3.865918</td>\n",
       "    </tr>\n",
       "  </tbody>\n",
       "</table>\n",
       "</div>"
      ],
      "text/plain": [
       "  Feature       VIF\n",
       "0    Open  2.164173\n",
       "1  Volume  2.259872\n",
       "2   Range  3.865918"
      ]
     },
     "execution_count": 5,
     "metadata": {},
     "output_type": "execute_result"
    }
   ],
   "source": [
    "# Create a new feature 'Range' as the difference between 'High' and 'Low'\n",
    "upst_data['Range'] = upst_data['High'] - upst_data['Low']\n",
    "\n",
    "X = upst_data[['Open', 'Volume', 'Range']]\n",
    "y = upst_data['Close']\n",
    "\n",
    "# Standardize the features including the new 'Range' feature\n",
    "scaler = StandardScaler()\n",
    "X_scaled = scaler.fit_transform(X)\n",
    "\n",
    "# Recalculate the VIFs for the new set of features\n",
    "vif_data_range = pd.DataFrame()\n",
    "vif_data_range[\"Feature\"] = X.columns\n",
    "vif_data_range[\"VIF\"] = [variance_inflation_factor(X_scaled, i) for i in range(X_scaled.shape[1])]\n",
    "\n",
    "vif_data_range"
   ]
  },
  {
   "cell_type": "markdown",
   "metadata": {},
   "source": [
    "Model Description\n",
    "\n",
    "A linear model we be used for predicting stock prices. Our objective is to forecast whether the stock price will rise or fall on the following day, and more specfically what the actual vs predicted price of the stock will be. \n",
    "\n",
    "A linear model was chosen due to its simplicity and interpretability. It can provide insights into the relationship between independent variables and the dependent variable. Which in this case is the historical price data and the predicted stock price. The linear model assumes that there is a linear relationship between the input variables (X) and the single output variable (Y). The model attempts to fit a linear equation to observed data by adjusting the coefficients of the input variables to minimize the difference between the predicted values and the actual values of the stock.\n",
    "\n",
    "The concern with this model is overfitting, which will be discussed later when looking at the results\n"
   ]
  },
  {
   "cell_type": "markdown",
   "metadata": {},
   "source": [
    "Model Implementation\n",
    "\n",
    "\n",
    "The dataset was divided into training and testing sets using scikit-learn's train_test_split function. This ensures that we have a separate dataset to evaluate the model's performance and generalizability to new data.\n",
    "\n",
    "A Linear Regression object was instantiated from scikit-learn and fitted to the training data. This process involved finding the optimal coefficients for the predictors in the linear equation. We ensured that the assumptions of linear regression were met before proceeding. The model is trained and shown in the code below.\n",
    "\n"
   ]
  },
  {
   "cell_type": "code",
   "execution_count": 6,
   "metadata": {},
   "outputs": [
    {
     "data": {
      "text/html": [
       "<style>#sk-container-id-1 {color: black;}#sk-container-id-1 pre{padding: 0;}#sk-container-id-1 div.sk-toggleable {background-color: white;}#sk-container-id-1 label.sk-toggleable__label {cursor: pointer;display: block;width: 100%;margin-bottom: 0;padding: 0.3em;box-sizing: border-box;text-align: center;}#sk-container-id-1 label.sk-toggleable__label-arrow:before {content: \"▸\";float: left;margin-right: 0.25em;color: #696969;}#sk-container-id-1 label.sk-toggleable__label-arrow:hover:before {color: black;}#sk-container-id-1 div.sk-estimator:hover label.sk-toggleable__label-arrow:before {color: black;}#sk-container-id-1 div.sk-toggleable__content {max-height: 0;max-width: 0;overflow: hidden;text-align: left;background-color: #f0f8ff;}#sk-container-id-1 div.sk-toggleable__content pre {margin: 0.2em;color: black;border-radius: 0.25em;background-color: #f0f8ff;}#sk-container-id-1 input.sk-toggleable__control:checked~div.sk-toggleable__content {max-height: 200px;max-width: 100%;overflow: auto;}#sk-container-id-1 input.sk-toggleable__control:checked~label.sk-toggleable__label-arrow:before {content: \"▾\";}#sk-container-id-1 div.sk-estimator input.sk-toggleable__control:checked~label.sk-toggleable__label {background-color: #d4ebff;}#sk-container-id-1 div.sk-label input.sk-toggleable__control:checked~label.sk-toggleable__label {background-color: #d4ebff;}#sk-container-id-1 input.sk-hidden--visually {border: 0;clip: rect(1px 1px 1px 1px);clip: rect(1px, 1px, 1px, 1px);height: 1px;margin: -1px;overflow: hidden;padding: 0;position: absolute;width: 1px;}#sk-container-id-1 div.sk-estimator {font-family: monospace;background-color: #f0f8ff;border: 1px dotted black;border-radius: 0.25em;box-sizing: border-box;margin-bottom: 0.5em;}#sk-container-id-1 div.sk-estimator:hover {background-color: #d4ebff;}#sk-container-id-1 div.sk-parallel-item::after {content: \"\";width: 100%;border-bottom: 1px solid gray;flex-grow: 1;}#sk-container-id-1 div.sk-label:hover label.sk-toggleable__label {background-color: #d4ebff;}#sk-container-id-1 div.sk-serial::before {content: \"\";position: absolute;border-left: 1px solid gray;box-sizing: border-box;top: 0;bottom: 0;left: 50%;z-index: 0;}#sk-container-id-1 div.sk-serial {display: flex;flex-direction: column;align-items: center;background-color: white;padding-right: 0.2em;padding-left: 0.2em;position: relative;}#sk-container-id-1 div.sk-item {position: relative;z-index: 1;}#sk-container-id-1 div.sk-parallel {display: flex;align-items: stretch;justify-content: center;background-color: white;position: relative;}#sk-container-id-1 div.sk-item::before, #sk-container-id-1 div.sk-parallel-item::before {content: \"\";position: absolute;border-left: 1px solid gray;box-sizing: border-box;top: 0;bottom: 0;left: 50%;z-index: -1;}#sk-container-id-1 div.sk-parallel-item {display: flex;flex-direction: column;z-index: 1;position: relative;background-color: white;}#sk-container-id-1 div.sk-parallel-item:first-child::after {align-self: flex-end;width: 50%;}#sk-container-id-1 div.sk-parallel-item:last-child::after {align-self: flex-start;width: 50%;}#sk-container-id-1 div.sk-parallel-item:only-child::after {width: 0;}#sk-container-id-1 div.sk-dashed-wrapped {border: 1px dashed gray;margin: 0 0.4em 0.5em 0.4em;box-sizing: border-box;padding-bottom: 0.4em;background-color: white;}#sk-container-id-1 div.sk-label label {font-family: monospace;font-weight: bold;display: inline-block;line-height: 1.2em;}#sk-container-id-1 div.sk-label-container {text-align: center;}#sk-container-id-1 div.sk-container {/* jupyter's `normalize.less` sets `[hidden] { display: none; }` but bootstrap.min.css set `[hidden] { display: none !important; }` so we also need the `!important` here to be able to override the default hidden behavior on the sphinx rendered scikit-learn.org. See: https://github.com/scikit-learn/scikit-learn/issues/21755 */display: inline-block !important;position: relative;}#sk-container-id-1 div.sk-text-repr-fallback {display: none;}</style><div id=\"sk-container-id-1\" class=\"sk-top-container\"><div class=\"sk-text-repr-fallback\"><pre>LinearRegression()</pre><b>In a Jupyter environment, please rerun this cell to show the HTML representation or trust the notebook. <br />On GitHub, the HTML representation is unable to render, please try loading this page with nbviewer.org.</b></div><div class=\"sk-container\" hidden><div class=\"sk-item\"><div class=\"sk-estimator sk-toggleable\"><input class=\"sk-toggleable__control sk-hidden--visually\" id=\"sk-estimator-id-1\" type=\"checkbox\" checked><label for=\"sk-estimator-id-1\" class=\"sk-toggleable__label sk-toggleable__label-arrow\">LinearRegression</label><div class=\"sk-toggleable__content\"><pre>LinearRegression()</pre></div></div></div></div></div>"
      ],
      "text/plain": [
       "LinearRegression()"
      ]
     },
     "execution_count": 6,
     "metadata": {},
     "output_type": "execute_result"
    }
   ],
   "source": [
    "# Split the dataset into training and testing sets\n",
    "X_train, X_test, y_train, y_test = train_test_split(X_scaled, y, test_size=0.3, random_state=42)\n",
    "\n",
    "# Create a new linear regression model instance\n",
    "linear_model = LinearRegression()\n",
    "\n",
    "# Train the model on the entire dataset\n",
    "linear_model.fit(X_train, y_train)"
   ]
  },
  {
   "cell_type": "markdown",
   "metadata": {},
   "source": [
    "Execution\n",
    "\n",
    "Here we constructed the linear model. The linear model is going to help us predict whether the stock price will go up or down on the next day. Note that we used the whole data set to train the linear model. I have learned that this may not be the best idea because of overfitting- where the model learns the details and noise in the training dataset to an extent that it negatively impacts the performance of the model on new data.\n",
    "\n"
   ]
  },
  {
   "cell_type": "code",
   "execution_count": 7,
   "metadata": {},
   "outputs": [
    {
     "name": "stdout",
     "output_type": "stream",
     "text": [
      "Training MSE: 3.228009217595834\n",
      "Testing MSE: 5.611635732896272\n",
      "Training R^2: 0.9795130723998766\n",
      "Testing R^2: 0.9564425189022375\n"
     ]
    }
   ],
   "source": [
    "# Make predictions\n",
    "y_train_pred = linear_model.predict(X_train)\n",
    "y_test_pred = linear_model.predict(X_test)\n",
    "\n",
    "\n",
    "# Evaluate the model\n",
    "train_mse = mean_squared_error(y_train, y_train_pred)\n",
    "test_mse = mean_squared_error(y_test, y_test_pred)\n",
    "train_r2 = r2_score(y_train, y_train_pred)\n",
    "test_r2 = r2_score(y_test, y_test_pred)\n",
    "\n",
    "print(f'Training MSE: {train_mse}')\n",
    "print(f'Testing MSE: {test_mse}')\n",
    "print(f'Training R^2: {train_r2}')\n",
    "print(f'Testing R^2: {test_r2}')\n",
    "\n"
   ]
  },
  {
   "cell_type": "markdown",
   "metadata": {},
   "source": [
    "Results\n",
    "\n",
    "Here we outputed the r_squared and mean squared error. R-squared is a measurement that tests how well the regression predictions approximate the real data points. \n",
    "\n",
    "The mean squared error averages the squared difference between the actual and predicted values. This tracks how much the model deviated from the actual value. The smaller the MSE, the better the model's performance.\n",
    " \n",
    "These results indicate that the model is fitting the data well, as evidenced by the high R² values. The R² value of 0.9793 for the training set and 0.9560 for the test set suggests the model explains a significant portion of the variance in the target variable for both datasets.\n",
    "\n",
    "However, the difference in MSE between the training and testing sets (3.2842 for training vs. 5.5004 for testing) might suggest some overfitting, as the model performs better on the training data than on the testing data. This is a common issue in predictive modeling, especially with complex datasets like stock prices, and might warrant further model tuning or complexity reduction.\n",
    "\n"
   ]
  },
  {
   "cell_type": "code",
   "execution_count": 8,
   "metadata": {},
   "outputs": [
    {
     "data": {
      "image/png": "[encoded data removed]",
      "text/plain": [
       "<Figure size 1000x600 with 1 Axes>"
      ]
     },
     "metadata": {},
     "output_type": "display_data"
    }
   ],
   "source": [
    "# Plotting actual vs predicted values\n",
    "plt.figure(figsize=(10, 6))\n",
    "plt.scatter(y_test, y_test_pred, alpha=0.5)\n",
    "plt.plot([y.min(), y.max()], [y.min(), y.max()], 'k--', lw=2)  # Line for perfect predictions\n",
    "plt.xlabel('Actual')\n",
    "plt.ylabel('Predicted')\n",
    "plt.title('Actual vs Predicted Closing Prices')\n",
    "plt.show()"
   ]
  },
  {
   "cell_type": "markdown",
   "metadata": {},
   "source": [
    "Model Validation \n",
    "\n",
    "Plotting the linear model for a dataset with multiple features is not as straightforward as it is for a single feature because you cannot visualize a multi-dimensional plane easily. However, we can plot the actual vs. predicted values to visualize how well the model is performing. This is a common way to assess the fit of a linear model in a multi-dimensional feature space.\n",
    "\n",
    "The x-axis shows the actual closing prices, and the y-axis shows the predicted closing prices. If the model is perfect, all points will lie on the dashed line, which represents perfect predictions. The closer the points are to this line, the better the model's predictions.\n",
    "\n",
    "Since we used a simple linear regression model, it assumes a linear relationship between the independent variavles and dependent variable (closing price). This model is quite simple, but provides a good starting point for predictive modeling. "
   ]
  },
  {
   "cell_type": "code",
   "execution_count": 9,
   "id": "616f7e42",
   "metadata": {},
   "outputs": [
    {
     "name": "stdout",
     "output_type": "stream",
     "text": [
      "Last Day Closing Price: 31.950001\n",
      "Predicted Next Day Closing Price: 33.42912663928011\n",
      "Decision: Buy\n"
     ]
    },
    {
     "name": "stderr",
     "output_type": "stream",
     "text": [
      "C:\\Users\\jacku\\AppData\\Local\\Packages\\PythonSoftwareFoundation.Python.3.10_qbz5n2kfra8p0\\LocalCache\\local-packages\\Python310\\site-packages\\sklearn\\base.py:465: UserWarning: X does not have valid feature names, but StandardScaler was fitted with feature names\n",
      "  warnings.warn(\n"
     ]
    }
   ],
   "source": [
    "\n",
    "# Predicting the next day's closing price\n",
    "# Note: This uses the last day's data as a proxy for the next day's unknown values.\n",
    "\n",
    "# Prepare the input for the next day (using the last available data)\n",
    "next_day_features = upst_data[['Open', 'Volume', 'Range']].iloc[-1].values.reshape(1, -1)\n",
    "next_day_scaled = scaler.transform(next_day_features)\n",
    "\n",
    "# Make the prediction\n",
    "next_day_prediction = linear_model.predict(next_day_scaled)\n",
    "# Making a decision to buy or hold based on the prediction\n",
    "# Assuming if the predicted price is higher than the last closing price, we decide to buy\n",
    "# Otherwise, we hold\n",
    "\n",
    "last_day_close_price = upst_data['Close'].iloc[-1]\n",
    "decision = \"Buy\" if next_day_prediction > last_day_close_price else \"Hold\"\n",
    "print(f\"Last Day Closing Price: {last_day_close_price}\")\n",
    "print(f\"Predicted Next Day Closing Price: {next_day_prediction[0]}\")\n",
    "print(f\"Decision: {decision}\")\n"
   ]
  },
  {
   "cell_type": "markdown",
   "metadata": {},
   "source": [
    "Here our model made a prediction using the test set. According to the real data, our linear model failed to predict the closing price. The stock actually went down. This makes sense since the real stock market is much more complicated than a simple linear regression. "
   ]
  },
  {
   "cell_type": "markdown",
   "metadata": {},
   "source": [
    "Conclusion\n",
    "\n",
    "The linear regression model demonstrates a strong capability to predict the closing stock prices based on the features used. However, the signs of potential overfitting suggest a need for caution. It would be beneficial to explore additional regularization techniques, such as Ridge or Lasso regression, which might help in reducing overfitting. Additionally, considering other types of features or different forms of feature engineering could further improve the model's robustness and generalization.\n",
    "\n",
    "Data Preparation: The dataset was preprocessed with the creation of a new feature, 'Range', calculated as the difference between the 'High' and 'Low' prices. The features 'Open', 'Volume', and 'Range' were used for modeling.\n",
    "\n",
    "Standardization: The features were standardized, which is essential for linear regression models to ensure that each feature contributes equally to the model.\n",
    "\n",
    "Modeling: A linear regression model was trained on this data.\n",
    "Evaluation: The model was evaluated using Mean Squared Error (MSE) and R-squared (R²) metrics.\n",
    "\n",
    "Model Performance\n",
    "\n",
    "Training Performance: The model showed strong performance on the training set with a high R² of 0.9793, indicating that it explains about 97.93% of the variance in the training data. The training MSE was 3.2842.\n",
    "\n",
    "Testing Performance: On the testing set, the model also performed well with an R² of 0.9560, explaining approximately 95.60% of the variance. The testing MSE was higher at 5.5004.\n",
    "\n",
    "Observations and Considerations\n",
    "\n",
    "Good Fit: The high R² values for both training and testing sets suggest that the model fits the data well and can explain a significant portion of the variance in stock prices.\n",
    "\n",
    "Potential Overfitting: The increase in MSE from the training to the testing set suggests that the model may be overfitting the training data. This means it's capturing not only the underlying pattern but also some noise, which reduces its performance on the testing set.\n",
    "\n",
    "Feature Selection Impact: The choice of features and the creation of the 'Range' feature seem to have positively impacted the model's ability to capture the dynamics of the stock prices."
   ]
  },
  {
   "cell_type": "markdown",
   "metadata": {},
   "source": [
    "Investment Worthiness\n",
    "\n",
    "When analyzing the model, as stated above, it seems to be that the model fits the data. The actual data is within reason to the predicted data and we have a high R squared rate (.9793) so the model is worthy enough to show accurate predictions of the stock.\n"
   ]
  },
  {
   "cell_type": "markdown",
   "metadata": {},
   "source": [
    "Christian Worldview\n",
    "\n",
    "From the Christian Worldview perspective it would also be important to analyze the company that one is investing in outside of the statistical and finicial realm. The morals and ethics of the company would play a roll in the process. Not investing in companies that dont follow biblical guidelines when it comes to how they operate their company might be something one takes into affects. I do not think this would a a quantative analysis on the morality of a company, so it would be impossible to have it play a roll when creating a computational model of stock analysis. This would have to be a qualatative analysis perfromed by one seperatly. This is becauses morality and ethics is often not binary, even within the Christian Worldview there is different denominations with different perspectives on different things so it is hard to create a model that takes into account something believed and turn it binary"
   ]
  }
 ],
 "metadata": {
  "kernelspec": {
   "display_name": "Python 3",
   "language": "python",
   "name": "python3"
  },
  "language_info": {
   "codemirror_mode": {
    "name": "ipython",
    "version": 3
   },
   "file_extension": ".py",
   "mimetype": "text/x-python",
   "name": "python",
   "nbconvert_exporter": "python",
   "pygments_lexer": "ipython3",
   "version": "3.10.11"
  }
 },
 "nbformat": 4,
 "nbformat_minor": 2
}
